{
 "cells": [
  {
   "cell_type": "code",
   "execution_count": 1,
   "metadata": {},
   "outputs": [
    {
     "name": "stderr",
     "output_type": "stream",
     "text": [
      "Using TensorFlow backend.\n"
     ]
    }
   ],
   "source": [
    "import numpy as np\n",
    "from keras.models import Model\n",
    "from keras.layers import Input, concatenate, Conv2D, MaxPooling2D, UpSampling2D, Reshape, core, Dropout\n",
    "from keras.optimizers import Adam\n",
    "from keras.callbacks import ModelCheckpoint, LearningRateScheduler\n",
    "from keras import backend as K\n",
    "from keras.utils.vis_utils import plot_model as plot\n",
    "from keras.optimizers import SGD"
   ]
  },
  {
   "cell_type": "code",
   "execution_count": 2,
   "metadata": {
    "collapsed": true
   },
   "outputs": [],
   "source": [
    "import sys\n",
    "sys.path.insert(0, './lib/')\n",
    "from help_functions import *"
   ]
  },
  {
   "cell_type": "code",
   "execution_count": 3,
   "metadata": {
    "collapsed": true
   },
   "outputs": [],
   "source": [
    "from extract_patches import get_data_training"
   ]
  },
  {
   "cell_type": "code",
   "execution_count": 4,
   "metadata": {
    "collapsed": true
   },
   "outputs": [],
   "source": [
    "def get_unet(n_ch,patch_height,patch_width):\n",
    "    inputs = Input(shape=(n_ch,patch_height,patch_width))\n",
    "    conv1 = Conv2D(32, (3, 3), activation='relu', padding='same',data_format='channels_first')(inputs)\n",
    "    conv1 = Dropout(0.2)(conv1)\n",
    "    conv1 = Conv2D(32, (3, 3), activation='relu', padding='same',data_format='channels_first')(conv1)\n",
    "    pool1 = MaxPooling2D((2, 2))(conv1)\n",
    "    #\n",
    "    conv2 = Conv2D(64, (3, 3), activation='relu', padding='same',data_format='channels_first')(pool1)\n",
    "    conv2 = Dropout(0.2)(conv2)\n",
    "    conv2 = Conv2D(64, (3, 3), activation='relu', padding='same',data_format='channels_first')(conv2)\n",
    "    pool2 = MaxPooling2D((2, 2))(conv2)\n",
    "    #\n",
    "    conv3 = Conv2D(128, (3, 3), activation='relu', padding='same',data_format='channels_first')(pool2)\n",
    "    conv3 = Dropout(0.2)(conv3)\n",
    "    conv3 = Conv2D(128, (3, 3), activation='relu', padding='same',data_format='channels_first')(conv3)\n",
    "\n",
    "    up1 = UpSampling2D(size=(2, 2))(conv3)\n",
    "    up1 = concatenate([conv2,up1],axis=1)\n",
    "    conv4 = Conv2D(64, (3, 3), activation='relu', padding='same',data_format='channels_first')(up1)\n",
    "    conv4 = Dropout(0.2)(conv4)\n",
    "    conv4 = Conv2D(64, (3, 3), activation='relu', padding='same',data_format='channels_first')(conv4)\n",
    "    #\n",
    "    up2 = UpSampling2D(size=(2, 2))(conv4)\n",
    "    up2 = concatenate([conv1,up2], axis=1)\n",
    "    conv5 = Conv2D(32, (3, 3), activation='relu', padding='same',data_format='channels_first')(up2)\n",
    "    conv5 = Dropout(0.2)(conv5)\n",
    "    conv5 = Conv2D(32, (3, 3), activation='relu', padding='same',data_format='channels_first')(conv5)\n",
    "    #\n",
    "    conv6 = Conv2D(2, (1, 1), activation='relu',padding='same',data_format='channels_first')(conv5)\n",
    "    conv6 = core.Reshape((2,patch_height*patch_width))(conv6)\n",
    "    conv6 = core.Permute((2,1))(conv6)\n",
    "    ############\n",
    "    conv7 = core.Activation('softmax')(conv6)\n",
    "\n",
    "    model = Model(inputs=inputs, outputs=conv7)\n",
    "\n",
    "    # sgd = SGD(lr=0.01, decay=1e-6, momentum=0.3, nesterov=False)\n",
    "    model.compile(optimizer='sgd', loss='categorical_crossentropy',metrics=['accuracy'])\n",
    "\n",
    "    return model\n",
    "\n",
    "#Define the neural network gnet\n",
    "#you need change function call \"get_unet\" to \"get_gnet\" in line 166 before use this network\n",
    "def get_gnet(n_ch,patch_height,patch_width):\n",
    "    inputs = Input((n_ch, patch_height, patch_width))\n",
    "    conv1 = Convolution2D(32, 3, 3, activation='relu', border_mode='same')(inputs)\n",
    "    conv1 = Dropout(0.2)(conv1)\n",
    "    conv1 = Convolution2D(32, 3, 3, activation='relu', border_mode='same')(conv1)\n",
    "    up1 = UpSampling2D(size=(2, 2))(conv1)\n",
    "    #\n",
    "    conv2 = Convolution2D(16, 3, 3, activation='relu', border_mode='same')(up1)\n",
    "    conv2 = Dropout(0.2)(conv2)\n",
    "    conv2 = Convolution2D(16, 3, 3, activation='relu', border_mode='same')(conv2)\n",
    "    pool1 = MaxPooling2D(pool_size=(2, 2))(conv2)\n",
    "    #\n",
    "    conv3 = Convolution2D(32, 3, 3, activation='relu', border_mode='same')(pool1)\n",
    "    conv3 = Dropout(0.2)(conv3)\n",
    "    conv3 = Convolution2D(32, 3, 3, activation='relu', border_mode='same')(conv3)\n",
    "    pool2 = MaxPooling2D(pool_size=(2, 2))(conv3)\n",
    "    #\n",
    "    conv4 = Convolution2D(64, 3, 3, activation='relu', border_mode='same')(pool2)\n",
    "    conv4 = Dropout(0.2)(conv4)\n",
    "    conv4 = Convolution2D(64, 3, 3, activation='relu', border_mode='same')(conv4)\n",
    "    pool3 = MaxPooling2D(pool_size=(2, 2))(conv4)\n",
    "    #\n",
    "    conv5 = Convolution2D(128, 3, 3, activation='relu', border_mode='same')(pool3)\n",
    "    conv5 = Dropout(0.2)(conv5)\n",
    "    conv5 = Convolution2D(128, 3, 3, activation='relu', border_mode='same')(conv5)\n",
    "    #\n",
    "    up2 = merge([UpSampling2D(size=(2, 2))(conv5), conv4], mode='concat', concat_axis=1)\n",
    "    conv6 = Convolution2D(64, 3, 3, activation='relu', border_mode='same')(up2)\n",
    "    conv6 = Dropout(0.2)(conv6)\n",
    "    conv6 = Convolution2D(64, 3, 3, activation='relu', border_mode='same')(conv6)\n",
    "    #\n",
    "    up3 = merge([UpSampling2D(size=(2, 2))(conv6), conv3], mode='concat', concat_axis=1)\n",
    "    conv7 = Convolution2D(32, 3, 3, activation='relu', border_mode='same')(up3)\n",
    "    conv7 = Dropout(0.2)(conv7)\n",
    "    conv7 = Convolution2D(32, 3, 3, activation='relu', border_mode='same')(conv7)\n",
    "    #\n",
    "    up4 = merge([UpSampling2D(size=(2, 2))(conv7), conv2], mode='concat', concat_axis=1)\n",
    "    conv8 = Convolution2D(16, 3, 3, activation='relu', border_mode='same')(up4)\n",
    "    conv8 = Dropout(0.2)(conv8)\n",
    "    conv8 = Convolution2D(16, 3, 3, activation='relu', border_mode='same')(conv8)\n",
    "    #\n",
    "    pool4 = MaxPooling2D(pool_size=(2, 2))(conv8)\n",
    "    conv9 = Convolution2D(32, 3, 3, activation='relu', border_mode='same')(pool4)\n",
    "    conv9 = Dropout(0.2)(conv9)\n",
    "    conv9 = Convolution2D(32, 3, 3, activation='relu', border_mode='same')(conv9)\n",
    "    #\n",
    "    conv10 = Convolution2D(2, 1, 1, activation='relu', border_mode='same')(conv9)\n",
    "    conv10 = core.Reshape((2,patch_height*patch_width))(conv10)\n",
    "    conv10 = core.Permute((2,1))(conv10)\n",
    "    ############\n",
    "    conv10 = core.Activation('softmax')(conv10)\n",
    "\n",
    "    model = Model(input=inputs, output=conv10)\n",
    "\n",
    "    # sgd = SGD(lr=0.01, decay=1e-6, momentum=0.3, nesterov=False)\n",
    "    model.compile(optimizer='sgd', loss='categorical_crossentropy',metrics=['accuracy'])\n",
    "\n",
    "    return model"
   ]
  },
  {
   "cell_type": "code",
   "execution_count": 5,
   "metadata": {
    "collapsed": true
   },
   "outputs": [],
   "source": [
    "N_epochs = 100\n",
    "batch_size = 5"
   ]
  },
  {
   "cell_type": "code",
   "execution_count": 14,
   "metadata": {
    "collapsed": true
   },
   "outputs": [],
   "source": [
    "import os\n",
    "import h5py\n",
    "import numpy as np\n",
    "from PIL import Image\n",
    "\n",
    "\n",
    "\n",
    "def write_hdf5(arr,outfile):\n",
    "  with h5py.File(outfile,\"w\") as f:\n",
    "    f.create_dataset(\"image\", data=arr, dtype=arr.dtype)"
   ]
  },
  {
   "cell_type": "code",
   "execution_count": 15,
   "metadata": {
    "collapsed": true
   },
   "outputs": [],
   "source": [
    "#train\n",
    "original_imgs_train = \"./DRIVE/training/images/\"\n",
    "groundTruth_imgs_train = \"./DRIVE/training/1st_manual/\"\n",
    "borderMasks_imgs_train = \"./DRIVE/training/mask/\"\n",
    "#test\n",
    "original_imgs_test = \"./DRIVE/test/images/\"\n",
    "groundTruth_imgs_test = \"./DRIVE/test/1st_manual/\"\n",
    "borderMasks_imgs_test = \"./DRIVE/test/mask/\""
   ]
  },
  {
   "cell_type": "code",
   "execution_count": 16,
   "metadata": {
    "collapsed": true
   },
   "outputs": [],
   "source": [
    "Nimgs = 20\n",
    "channels = 3\n",
    "height = 584\n",
    "width = 565\n",
    "dataset_path = \"./DRIVE_datasets_training_testing/\""
   ]
  },
  {
   "cell_type": "code",
   "execution_count": 19,
   "metadata": {
    "collapsed": true
   },
   "outputs": [],
   "source": [
    "def get_datasets(imgs_dir,groundTruth_dir,borderMasks_dir,train_test=\"null\"):\n",
    "    imgs = np.empty((Nimgs,height,width,channels))\n",
    "    groundTruth = np.empty((Nimgs,height,width))\n",
    "    border_masks = np.empty((Nimgs,height,width))\n",
    "    for path, subdirs, files in os.walk(imgs_dir): #list all files, directories in the path\n",
    "        for i in range(len(files)):\n",
    "            #original\n",
    "            print (\"original image: \" +files[i])\n",
    "            img = Image.open(imgs_dir+files[i])\n",
    "            imgs[i] = np.asarray(img)\n",
    "            #corresponding ground truth\n",
    "            groundTruth_name = files[i][0:2] + \"_manual1.gif\"\n",
    "            print (\"ground truth name: \" + groundTruth_name)\n",
    "            g_truth = Image.open(groundTruth_dir + groundTruth_name)\n",
    "            groundTruth[i] = np.asarray(g_truth)\n",
    "            #corresponding border masks\n",
    "            border_masks_name = \"\"\n",
    "            if train_test==\"train\":\n",
    "                border_masks_name = files[i][0:2] + \"_training_mask.gif\"\n",
    "            elif train_test==\"test\":\n",
    "                border_masks_name = files[i][0:2] + \"_test_mask.gif\"\n",
    "            else:\n",
    "                print (\"specify if train or test!!\")\n",
    "                exit()\n",
    "            print (\"border masks name: \" + border_masks_name)\n",
    "            b_mask = Image.open(borderMasks_dir + border_masks_name)\n",
    "            border_masks[i] = np.asarray(b_mask)\n",
    "    print (\"imgs max: \" +str(np.max(imgs)))\n",
    "    print (\"imgs min: \" +str(np.min(imgs)))\n",
    "    assert(np.max(groundTruth)==255 and np.max(border_masks)==255)\n",
    "    assert(np.min(groundTruth)==0 and np.min(border_masks)==0)\n",
    "    print (\"ground truth and border masks are correctly withih pixel value range 0-255 (black-white)\")\n",
    "    #reshaping for my standard tensors\n",
    "    imgs = np.transpose(imgs,(0,3,1,2))\n",
    "    assert(imgs.shape == (Nimgs,channels,height,width))\n",
    "    groundTruth = np.reshape(groundTruth,(Nimgs,1,height,width))\n",
    "    border_masks = np.reshape(border_masks,(Nimgs,1,height,width))\n",
    "    assert(groundTruth.shape == (Nimgs,1,height,width))\n",
    "    assert(border_masks.shape == (Nimgs,1,height,width))\n",
    "    return imgs, groundTruth, border_masks"
   ]
  },
  {
   "cell_type": "code",
   "execution_count": 22,
   "metadata": {},
   "outputs": [
    {
     "name": "stdout",
     "output_type": "stream",
     "text": [
      "original image: 21_training.tif\n",
      "ground truth name: 21_manual1.gif\n",
      "border masks name: 21_training_mask.gif\n",
      "original image: 22_training.tif\n",
      "ground truth name: 22_manual1.gif\n",
      "border masks name: 22_training_mask.gif\n",
      "original image: 23_training.tif\n",
      "ground truth name: 23_manual1.gif\n",
      "border masks name: 23_training_mask.gif\n",
      "original image: 24_training.tif\n",
      "ground truth name: 24_manual1.gif\n",
      "border masks name: 24_training_mask.gif\n",
      "original image: 25_training.tif\n",
      "ground truth name: 25_manual1.gif\n",
      "border masks name: 25_training_mask.gif\n",
      "original image: 26_training.tif\n",
      "ground truth name: 26_manual1.gif\n",
      "border masks name: 26_training_mask.gif\n",
      "original image: 27_training.tif\n",
      "ground truth name: 27_manual1.gif\n",
      "border masks name: 27_training_mask.gif\n",
      "original image: 28_training.tif\n",
      "ground truth name: 28_manual1.gif\n",
      "border masks name: 28_training_mask.gif\n",
      "original image: 29_training.tif\n",
      "ground truth name: 29_manual1.gif\n",
      "border masks name: 29_training_mask.gif\n",
      "original image: 30_training.tif\n",
      "ground truth name: 30_manual1.gif\n",
      "border masks name: 30_training_mask.gif\n",
      "original image: 31_training.tif\n",
      "ground truth name: 31_manual1.gif\n",
      "border masks name: 31_training_mask.gif\n",
      "original image: 32_training.tif\n",
      "ground truth name: 32_manual1.gif\n",
      "border masks name: 32_training_mask.gif\n",
      "original image: 33_training.tif\n",
      "ground truth name: 33_manual1.gif\n",
      "border masks name: 33_training_mask.gif\n",
      "original image: 34_training.tif\n",
      "ground truth name: 34_manual1.gif\n",
      "border masks name: 34_training_mask.gif\n",
      "original image: 35_training.tif\n",
      "ground truth name: 35_manual1.gif\n",
      "border masks name: 35_training_mask.gif\n",
      "original image: 36_training.tif\n",
      "ground truth name: 36_manual1.gif\n",
      "border masks name: 36_training_mask.gif\n",
      "original image: 37_training.tif\n",
      "ground truth name: 37_manual1.gif\n",
      "border masks name: 37_training_mask.gif\n",
      "original image: 38_training.tif\n",
      "ground truth name: 38_manual1.gif\n",
      "border masks name: 38_training_mask.gif\n",
      "original image: 39_training.tif\n",
      "ground truth name: 39_manual1.gif\n",
      "border masks name: 39_training_mask.gif\n",
      "original image: 40_training.tif\n",
      "ground truth name: 40_manual1.gif\n",
      "border masks name: 40_training_mask.gif\n",
      "imgs max: 255.0\n",
      "imgs min: 0.0\n",
      "ground truth and border masks are correctly withih pixel value range 0-255 (black-white)\n",
      "saving train datasets\n",
      "original image: 01_test.tif\n",
      "ground truth name: 01_manual1.gif\n",
      "border masks name: 01_test_mask.gif\n",
      "original image: 02_test.tif\n",
      "ground truth name: 02_manual1.gif\n",
      "border masks name: 02_test_mask.gif\n",
      "original image: 03_test.tif\n",
      "ground truth name: 03_manual1.gif\n",
      "border masks name: 03_test_mask.gif\n",
      "original image: 04_test.tif\n",
      "ground truth name: 04_manual1.gif\n",
      "border masks name: 04_test_mask.gif\n",
      "original image: 05_test.tif\n",
      "ground truth name: 05_manual1.gif\n",
      "border masks name: 05_test_mask.gif\n",
      "original image: 06_test.tif\n",
      "ground truth name: 06_manual1.gif\n",
      "border masks name: 06_test_mask.gif\n",
      "original image: 07_test.tif\n",
      "ground truth name: 07_manual1.gif\n",
      "border masks name: 07_test_mask.gif\n",
      "original image: 08_test.tif\n",
      "ground truth name: 08_manual1.gif\n",
      "border masks name: 08_test_mask.gif\n",
      "original image: 09_test.tif\n",
      "ground truth name: 09_manual1.gif\n",
      "border masks name: 09_test_mask.gif\n",
      "original image: 10_test.tif\n",
      "ground truth name: 10_manual1.gif\n",
      "border masks name: 10_test_mask.gif\n",
      "original image: 11_test.tif\n",
      "ground truth name: 11_manual1.gif\n",
      "border masks name: 11_test_mask.gif\n",
      "original image: 12_test.tif\n",
      "ground truth name: 12_manual1.gif\n",
      "border masks name: 12_test_mask.gif\n",
      "original image: 13_test.tif\n",
      "ground truth name: 13_manual1.gif\n",
      "border masks name: 13_test_mask.gif\n",
      "original image: 14_test.tif\n",
      "ground truth name: 14_manual1.gif\n",
      "border masks name: 14_test_mask.gif\n",
      "original image: 15_test.tif\n",
      "ground truth name: 15_manual1.gif\n",
      "border masks name: 15_test_mask.gif\n",
      "original image: 16_test.tif\n",
      "ground truth name: 16_manual1.gif\n",
      "border masks name: 16_test_mask.gif\n",
      "original image: 17_test.tif\n",
      "ground truth name: 17_manual1.gif\n",
      "border masks name: 17_test_mask.gif\n",
      "original image: 18_test.tif\n",
      "ground truth name: 18_manual1.gif\n",
      "border masks name: 18_test_mask.gif\n",
      "original image: 19_test.tif\n",
      "ground truth name: 19_manual1.gif\n",
      "border masks name: 19_test_mask.gif\n",
      "original image: 20_test.tif\n",
      "ground truth name: 20_manual1.gif\n",
      "border masks name: 20_test_mask.gif\n",
      "imgs max: 255.0\n",
      "imgs min: 0.0\n",
      "ground truth and border masks are correctly withih pixel value range 0-255 (black-white)\n",
      "saving test datasets\n"
     ]
    }
   ],
   "source": [
    "if not os.path.exists(dataset_path):\n",
    "    os.makedirs(dataset_path)\n",
    "#getting the training datasets\n",
    "imgs_train, groundTruth_train, border_masks_train = get_datasets(original_imgs_train,groundTruth_imgs_train,borderMasks_imgs_train,\"train\")\n",
    "print (\"saving train datasets\")\n",
    "write_hdf5(imgs_train, dataset_path + \"DRIVE_dataset_imgs_train.hdf5\")\n",
    "write_hdf5(groundTruth_train, dataset_path + \"DRIVE_dataset_groundTruth_train.hdf5\")\n",
    "write_hdf5(border_masks_train,dataset_path + \"DRIVE_dataset_borderMasks_train.hdf5\")\n",
    "\n",
    "#getting the testing datasets\n",
    "imgs_test, groundTruth_test, border_masks_test = get_datasets(original_imgs_test,groundTruth_imgs_test,borderMasks_imgs_test,\"test\")\n",
    "print (\"saving test datasets\")\n",
    "write_hdf5(imgs_test,dataset_path + \"DRIVE_dataset_imgs_test.hdf5\")\n",
    "write_hdf5(groundTruth_test, dataset_path + \"DRIVE_dataset_groundTruth_test.hdf5\")\n",
    "write_hdf5(border_masks_test,dataset_path + \"DRIVE_dataset_borderMasks_test.hdf5\")"
   ]
  },
  {
   "cell_type": "code",
   "execution_count": 6,
   "metadata": {},
   "outputs": [
    {
     "name": "stdout",
     "output_type": "stream",
     "text": [
      "\n",
      "train images/masks shape:\n",
      "(20, 1, 565, 565)\n",
      "train images range (min-max): 0.0 - 1.0\n",
      "train masks are within 0-1\n",
      "\n",
      "patches per full image: 9500\n",
      "\n",
      "train PATCHES images/masks shape:\n",
      "(190000, 1, 48, 48)\n",
      "train PATCHES images range (min-max): 0.0 - 1.0\n"
     ]
    }
   ],
   "source": [
    "patches_imgs_train, patches_masks_train = get_data_training(\n",
    "    DRIVE_train_imgs_original = 'DRIVE_datasets_training_testing/DRIVE_dataset_imgs_train.hdf5',\n",
    "    DRIVE_train_groudTruth = 'DRIVE_datasets_training_testing/DRIVE_dataset_borderMasks_train.hdf5',  #masks\n",
    "    patch_height = 48,\n",
    "    patch_width = 48,\n",
    "    N_subimgs = 190000,\n",
    "    inside_FOV = False #select the patches only inside the FOV  (default == True)\n",
    ")"
   ]
  },
  {
   "cell_type": "code",
   "execution_count": 7,
   "metadata": {
    "collapsed": true
   },
   "outputs": [],
   "source": [
    "n_ch = patches_imgs_train.shape[1]\n",
    "patch_height = patches_imgs_train.shape[2]\n",
    "patch_width = patches_imgs_train.shape[3]"
   ]
  },
  {
   "cell_type": "code",
   "execution_count": 8,
   "metadata": {},
   "outputs": [
    {
     "name": "stdout",
     "output_type": "stream",
     "text": [
      "WARNING:tensorflow:From C:\\Users\\Akshayaa\\Anacond3\\envs\\py36\\lib\\site-packages\\keras\\backend\\tensorflow_backend.py:1213: calling reduce_max (from tensorflow.python.ops.math_ops) with keep_dims is deprecated and will be removed in a future version.\n",
      "Instructions for updating:\n",
      "keep_dims is deprecated, use keepdims instead\n",
      "WARNING:tensorflow:From C:\\Users\\Akshayaa\\Anacond3\\envs\\py36\\lib\\site-packages\\keras\\backend\\tensorflow_backend.py:1247: calling reduce_sum (from tensorflow.python.ops.math_ops) with keep_dims is deprecated and will be removed in a future version.\n",
      "Instructions for updating:\n",
      "keep_dims is deprecated, use keepdims instead\n",
      "WARNING:tensorflow:From C:\\Users\\Akshayaa\\Anacond3\\envs\\py36\\lib\\site-packages\\keras\\backend\\tensorflow_backend.py:1349: calling reduce_mean (from tensorflow.python.ops.math_ops) with keep_dims is deprecated and will be removed in a future version.\n",
      "Instructions for updating:\n",
      "keep_dims is deprecated, use keepdims instead\n"
     ]
    }
   ],
   "source": [
    "model = get_unet(n_ch, patch_height, patch_width)"
   ]
  },
  {
   "cell_type": "code",
   "execution_count": 9,
   "metadata": {},
   "outputs": [
    {
     "name": "stdout",
     "output_type": "stream",
     "text": [
      "(None, 2304, 2)\n"
     ]
    }
   ],
   "source": [
    "print (model.output_shape)"
   ]
  },
  {
   "cell_type": "code",
   "execution_count": 10,
   "metadata": {
    "collapsed": true
   },
   "outputs": [],
   "source": [
    "patches_masks_train = masks_Unet(patches_masks_train)"
   ]
  },
  {
   "cell_type": "code",
   "execution_count": null,
   "metadata": {},
   "outputs": [],
   "source": [
    "model.fit(patches_imgs_train, patches_masks_train, nb_epoch=N_epochs, batch_size=batch_size, verbose=2, shuffle=True, validation_split=0.1)"
   ]
  },
  {
   "cell_type": "code",
   "execution_count": 49,
   "metadata": {},
   "outputs": [
    {
     "data": {
      "image/png": "[encoded data removed]",
      "text/plain": [
       "<matplotlib.figure.Figure at 0x2a6071114a8>"
      ]
     },
     "metadata": {},
     "output_type": "display_data"
    }
   ],
   "source": [
    "import matplotlib.pyplot as plt\n",
    "plt.imshow(patches_imgs_train[0][0])\n",
    "plt.show()"
   ]
  }
 ],
 "metadata": {
  "kernelspec": {
   "display_name": "Python 3",
   "language": "python",
   "name": "python3"
  },
  "language_info": {
   "codemirror_mode": {
    "name": "ipython",
    "version": 3
   },
   "file_extension": ".py",
   "mimetype": "text/x-python",
   "name": "python",
   "nbconvert_exporter": "python",
   "pygments_lexer": "ipython3",
   "version": "3.6.1"
  }
 },
 "nbformat": 4,
 "nbformat_minor": 2
}
